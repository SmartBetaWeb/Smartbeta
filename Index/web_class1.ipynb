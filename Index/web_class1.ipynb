{
 "cells": [
  {
   "cell_type": "code",
   "execution_count": 1,
   "metadata": {
    "collapsed": false
   },
   "outputs": [],
   "source": [
    "from flask import Flask\n",
    "from flask import request\n",
    "from flask_bootstrap import Bootstrap\n",
    "from flask import render_template"
   ]
  },
  {
   "cell_type": "code",
   "execution_count": null,
   "metadata": {
    "collapsed": true
   },
   "outputs": [],
   "source": []
  },
  {
   "cell_type": "code",
   "execution_count": 1,
   "metadata": {
    "collapsed": true
   },
   "outputs": [],
   "source": [
    "import tushare as ts"
   ]
  },
  {
   "cell_type": "code",
   "execution_count": 13,
   "metadata": {
    "collapsed": true
   },
   "outputs": [],
   "source": [
    "re = ts.day_boxoffice()"
   ]
  },
  {
   "cell_type": "code",
   "execution_count": 26,
   "metadata": {
    "collapsed": true
   },
   "outputs": [],
   "source": [
    "app = Flask(__name__)"
   ]
  },
  {
   "cell_type": "code",
   "execution_count": 25,
   "metadata": {
    "collapsed": true
   },
   "outputs": [],
   "source": [
    "retemp = '''<div id=\"wowslider-container1\">\n",
    "<div class=\"ws_images\"><ul>\n",
    "<li><img src=\"images/demo/megalopolis-slices/data1/images/edinburgh.jpg\" alt=\"Edinburgh\" title=\"Edinburgh\" id=\"wows1_0\"/>Scotland, Great Britain</li>\n",
    "<li><img src=\"images/demo/megalopolis-slices/data1/images/ferris_wheel.jpg\" alt=\"Ferris wheel\" title=\"Ferris wheel\" id=\"wows1_1\"/>London, Great Britain</li>\n",
    "<li><img src=\"images/demo/megalopolis-slices/data1/images/london.jpg\" alt=\"London\" title=\"London\" id=\"wows1_2\"/>Great Britain</li>\n",
    "<li><img src=\"images/demo/megalopolis-slices/data1/images/scotland.jpg\" alt=\"Landscape\" title=\"Landscape\" id=\"wows1_3\"/>Scotland, Great Britain</li>\n",
    "<li><img src=\"images/demo/megalopolis-slices/data1/images/windsor.jpg\" alt=\"Windsor\" title=\"Windsor\" id=\"wows1_4\"/>Great Britain</li>\n",
    "</ul></div>\n",
    "<div class=\"ws_bullets\"><div>\n",
    "<a href=\"#\" title=\"Edinburgh\"><img src=\"images/demo/megalopolis-slices/data1/tooltips/edinburgh.jpg\" alt=\"Edinburgh\"/>1</a>\n",
    "<a href=\"#\" title=\"Ferris wheel\"><img src=\"images/demo/megalopolis-slices/data1/tooltips/ferris_wheel.jpg\" alt=\"Ferris wheel\"/>2</a>\n",
    "<a href=\"#\" title=\"London\"><img src=\"images/demo/megalopolis-slices/data1/tooltips/london.jpg\" alt=\"London\"/>3</a>\n",
    "<a href=\"#\" title=\"Landscape\"><img src=\"images/demo/megalopolis-slices/data1/tooltips/scotland.jpg\" alt=\"Landscape\"/>4</a>\n",
    "<a href=\"#\" title=\"Windsor\"><img src=\"images/demo/megalopolis-slices/data1/tooltips/windsor.jpg\" alt=\"Windsor\"/>5</a>\n",
    "</div></div>\n",
    "<a href=\"#\" class=\"ws_frame\"></a>\n",
    "</div>\n",
    "<script type=\"text/javascript\" src=\"images/demo/wowslider.js\"></script>\n",
    "<script type=\"text/javascript\" src=\"images/demo/megalopolis-slices/engine1/script.js\"></script>\n",
    "'''"
   ]
  },
  {
   "cell_type": "code",
   "execution_count": 21,
   "metadata": {
    "collapsed": false
   },
   "outputs": [
    {
     "data": {
      "text/plain": [
       "<bound method Flask.route of <Flask '__main__'>>"
      ]
     },
     "execution_count": 21,
     "metadata": {},
     "output_type": "execute_result"
    }
   ],
   "source": [
    "app.route"
   ]
  },
  {
   "cell_type": "code",
   "execution_count": 2,
   "metadata": {
    "collapsed": false
   },
   "outputs": [
    {
     "name": "stderr",
     "output_type": "stream",
     "text": [
      " * Running on http://10.6.38.179:5000/ (Press CTRL+C to quit)\n",
      "10.6.38.179 - - [12/Jan/2018 22:53:40] \"GET / HTTP/1.1\" 404 -\n",
      "10.6.38.179 - - [12/Jan/2018 22:53:40] \"GET /favicon.ico HTTP/1.1\" 404 -\n",
      "[2018-01-12 22:53:50,303] ERROR in app: Exception on /32 [GET]\n",
      "Traceback (most recent call last):\n",
      "  File \"D:\\anaconda3\\lib\\site-packages\\flask\\app.py\", line 1988, in wsgi_app\n",
      "    response = self.full_dispatch_request()\n",
      "  File \"D:\\anaconda3\\lib\\site-packages\\flask\\app.py\", line 1641, in full_dispatch_request\n",
      "    rv = self.handle_user_exception(e)\n",
      "  File \"D:\\anaconda3\\lib\\site-packages\\flask\\app.py\", line 1544, in handle_user_exception\n",
      "    reraise(exc_type, exc_value, tb)\n",
      "  File \"D:\\anaconda3\\lib\\site-packages\\flask\\_compat.py\", line 33, in reraise\n",
      "    raise value\n",
      "  File \"D:\\anaconda3\\lib\\site-packages\\flask\\app.py\", line 1639, in full_dispatch_request\n",
      "    rv = self.dispatch_request()\n",
      "  File \"D:\\anaconda3\\lib\\site-packages\\flask\\app.py\", line 1625, in dispatch_request\n",
      "    return self.view_functions[rule.endpoint](**req.view_args)\n",
      "  File \"<ipython-input-2-16b11fc46be8>\", line 4, in user_show\n",
      "    re = ts.day_boxoffice()\n",
      "NameError: name 'ts' is not defined\n",
      "10.6.38.179 - - [12/Jan/2018 22:53:50] \"GET /32 HTTP/1.1\" 500 -\n"
     ]
    }
   ],
   "source": [
    "app = Flask(__name__)\n",
    "@app.route('/<int:id>', methods = ['GET'])\n",
    "def user_show(id):\n",
    "    re = ts.day_boxoffice()\n",
    "    html_re = re.to_html()\n",
    "    return '<h1>hello, %d!</h1>'% id + html_re\n",
    "app.run(host = '10.6.38.179', port = 5000)"
   ]
  },
  {
   "cell_type": "code",
   "execution_count": 43,
   "metadata": {
    "collapsed": false
   },
   "outputs": [
    {
     "name": "stderr",
     "output_type": "stream",
     "text": [
      " * Running on http://10.6.38.179:5000/ (Press CTRL+C to quit)\n",
      "INFO:werkzeug: * Running on http://10.6.38.179:5000/ (Press CTRL+C to quit)\n",
      "10.6.38.179 - - [03/Jan/2018 17:37:49] \"GET /smartbeta HTTP/1.1\" 404 -\n",
      "INFO:werkzeug:10.6.38.179 - - [03/Jan/2018 17:37:49] \"GET /smartbeta HTTP/1.1\" 404 -\n",
      "10.6.38.179 - - [03/Jan/2018 17:37:54] \"GET /s HTTP/1.1\" 200 -\n",
      "INFO:werkzeug:10.6.38.179 - - [03/Jan/2018 17:37:54] \"GET /s HTTP/1.1\" 200 -\n"
     ]
    }
   ],
   "source": [
    "from flask import request\n",
    "\n",
    "@app.route(\"/s\")\n",
    "def index():\n",
    "    user_agent = request.headers.get('user-agent')\n",
    "    return '<p>Your Brower is %s </p>' % user_agent\n",
    "\n",
    "app.run(host = '10.6.38.179', port = 5000)"
   ]
  },
  {
   "cell_type": "code",
   "execution_count": null,
   "metadata": {
    "collapsed": true
   },
   "outputs": [],
   "source": [
    "\n",
    "@app.route('/', methods=['GET', 'POST'])\n",
    "def home():\n",
    "    return '<h1>Home</h1>'\n",
    "\n",
    "@app.route('/signin', methods=['GET'])\n",
    "def signin_form():\n",
    "    return '''<form action=\"/signin\" method=\"post\">\n",
    "              <p><input name=\"username\"></p>\n",
    "              <p><input name=\"password\" type=\"password\"></p>\n",
    "              <p><button type=\"submit\">Sign In</button></p>\n",
    "              </form>'''\n",
    "\n",
    "@app.route('/signin', methods=['POST'])\n",
    "def signin():\n",
    "    # 需要从request对象读取表单内容：\n",
    "    if request.form['username']=='tgy' and request.form['password']=='123':\n",
    "        return '<h3>测试成功</h3>'\n",
    "    return '<h3>Bad username or password.</h3>'"
   ]
  },
  {
   "cell_type": "code",
   "execution_count": null,
   "metadata": {
    "collapsed": false
   },
   "outputs": [
    {
     "name": "stderr",
     "output_type": "stream",
     "text": [
      " * Running on http://10.6.38.179:5000/ (Press CTRL+C to quit)\n",
      "10.6.38.179 - - [08/Jan/2018 10:55:08] \"GET /smartbeta HTTP/1.1\" 200 -\n",
      "10.6.38.179 - - [08/Jan/2018 10:55:08] \"GET /favicon.ico HTTP/1.1\" 200 -\n"
     ]
    }
   ],
   "source": [
    "app = Flask(__name__)\n",
    "Bootstrap(app)\n",
    "@app.route('/<myname>')\n",
    "def home(myname):\n",
    "    return render_template('user.html', name = myname)\n",
    "@app.errorhandler(404)\n",
    "def page_not_found(e):\n",
    "    return render_template('404.html'), 404\n",
    "\n",
    "app.run(host = '10.6.38.179', port = 5000)\n",
    "\n",
    "# @app.route('/user/<tgy>')"
   ]
  }
 ],
 "metadata": {
  "anaconda-cloud": {},
  "kernelspec": {
   "display_name": "Python [conda root]",
   "language": "python",
   "name": "conda-root-py"
  },
  "language_info": {
   "codemirror_mode": {
    "name": "ipython",
    "version": 3
   },
   "file_extension": ".py",
   "mimetype": "text/x-python",
   "name": "python",
   "nbconvert_exporter": "python",
   "pygments_lexer": "ipython3",
   "version": "3.5.2"
  }
 },
 "nbformat": 4,
 "nbformat_minor": 1
}
