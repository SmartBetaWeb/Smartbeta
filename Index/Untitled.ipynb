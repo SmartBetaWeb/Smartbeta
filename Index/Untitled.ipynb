{
 "cells": [
  {
   "cell_type": "code",
   "execution_count": 2,
   "metadata": {
    "collapsed": false
   },
   "outputs": [],
   "source": [
    "from flask import Flask,request,render_template\n",
    "import jinja2\n",
    "from flask_bootstrap import Bootstrap"
   ]
  },
  {
   "cell_type": "code",
   "execution_count": 3,
   "metadata": {
    "collapsed": false
   },
   "outputs": [],
   "source": [
    "from flask import Flask,render_template  \n",
    "from flask.ext.wtf import Form  \n",
    "#from flask_wtf import Form  \n",
    "from flask.ext.bootstrap import Bootstrap  \n",
    "#from flask_bootstrap import Bootstrap  \n",
    "from wtforms import StringField,SubmitField  \n",
    "from wtforms.validators import Required  "
   ]
  },
  {
   "cell_type": "code",
   "execution_count": 3,
   "metadata": {
    "collapsed": false
   },
   "outputs": [],
   "source": []
  },
  {
   "cell_type": "code",
   "execution_count": 4,
   "metadata": {
    "collapsed": true
   },
   "outputs": [],
   "source": [
    "bs = Bootstrap()"
   ]
  },
  {
   "cell_type": "code",
   "execution_count": 8,
   "metadata": {
    "collapsed": false
   },
   "outputs": [],
   "source": [
    "render_template?"
   ]
  },
  {
   "cell_type": "code",
   "execution_count": null,
   "metadata": {
    "collapsed": true
   },
   "outputs": [],
   "source": [
    "import tushare"
   ]
  },
  {
   "cell_type": "code",
   "execution_count": 19,
   "metadata": {
    "collapsed": false
   },
   "outputs": [
    {
     "name": "stdout",
     "output_type": "stream",
     "text": [
      "b'\\xaf\\x00\\x00\\x00'\n"
     ]
    }
   ],
   "source": [
    "print(struct.pack(\"i\",175))"
   ]
  },
  {
   "cell_type": "code",
   "execution_count": 18,
   "metadata": {
    "collapsed": true
   },
   "outputs": [],
   "source": [
    "import struct"
   ]
  },
  {
   "cell_type": "code",
   "execution_count": null,
   "metadata": {
    "collapsed": false,
    "scrolled": true
   },
   "outputs": [
    {
     "name": "stderr",
     "output_type": "stream",
     "text": [
      " * Running on http://10.6.38.179:5000/ (Press CTRL+C to quit)\n",
      "10.6.38.179 - - [12/Jan/2018 22:56:27] \"GET /test HTTP/1.1\" 200 -\n",
      "10.6.38.179 - - [12/Jan/2018 22:58:39] \"GET / HTTP/1.1\" 404 -\n"
     ]
    }
   ],
   "source": [
    "app = Flask(__name__)\n",
    "Bootstrap(app)\n",
    "@app.route('/test', methods = ['get'])\n",
    "def home_1():\n",
    "    return render_template('user_chinese.html')\n",
    "# @app.route('/user/<tgy>')\n",
    "# def home_1(tgy):\n",
    "#     return render_template('base.html', name = tgy)\n",
    "# bs = Bootstrap(app)\n",
    "# @app.route('/signin', methods=['GET'])\n",
    "# def signin_form():\n",
    "#     return render_template('form.html')\n",
    "\n",
    "# @app.route('/signin', methods=['POST'])\n",
    "# def signin():\n",
    "#     username = request.form['username']\n",
    "#     password = request.form['password']\n",
    "#     if username=='admin' and password=='password':\n",
    "#         return render_template('signin-ok.html', username=username)\n",
    "#     return render_template('form.html', message='Bad username or password', username=username)\n",
    "app.run(host = '10.6.38.179', port = 5000)"
   ]
  },
  {
   "cell_type": "code",
   "execution_count": 5,
   "metadata": {
    "collapsed": false
   },
   "outputs": [
    {
     "name": "stderr",
     "output_type": "stream",
     "text": [
      "D:\\anaconda3\\lib\\site-packages\\flask\\exthook.py:71: ExtDeprecationWarning: Importing flask.ext.wtf is deprecated, use flask_wtf instead.\n",
      "  .format(x=modname), ExtDeprecationWarning\n"
     ]
    },
    {
     "ename": "ImportError",
     "evalue": "No module named flask.ext.wtf",
     "output_type": "error",
     "traceback": [
      "\u001b[0;31m---------------------------------------------------------------------------\u001b[0m",
      "\u001b[0;31mImportError\u001b[0m                               Traceback (most recent call last)",
      "\u001b[0;32m<ipython-input-5-d7444f37523b>\u001b[0m in \u001b[0;36m<module>\u001b[0;34m()\u001b[0m\n\u001b[1;32m      1\u001b[0m \u001b[1;32mfrom\u001b[0m \u001b[0mflask\u001b[0m \u001b[1;32mimport\u001b[0m \u001b[0mFlask\u001b[0m\u001b[1;33m,\u001b[0m\u001b[0mrender_template\u001b[0m\u001b[1;33m\u001b[0m\u001b[0m\n\u001b[0;32m----> 2\u001b[0;31m \u001b[1;32mfrom\u001b[0m \u001b[0mflask\u001b[0m\u001b[1;33m.\u001b[0m\u001b[0mext\u001b[0m\u001b[1;33m.\u001b[0m\u001b[0mwtf\u001b[0m \u001b[1;32mimport\u001b[0m \u001b[0mForm\u001b[0m\u001b[1;33m\u001b[0m\u001b[0m\n\u001b[0m\u001b[1;32m      3\u001b[0m \u001b[1;31m#from flask_wtf import Form\u001b[0m\u001b[1;33m\u001b[0m\u001b[1;33m\u001b[0m\u001b[0m\n\u001b[1;32m      4\u001b[0m \u001b[1;32mfrom\u001b[0m \u001b[0mflask\u001b[0m\u001b[1;33m.\u001b[0m\u001b[0mext\u001b[0m\u001b[1;33m.\u001b[0m\u001b[0mbootstrap\u001b[0m \u001b[1;32mimport\u001b[0m \u001b[0mBootstrap\u001b[0m\u001b[1;33m\u001b[0m\u001b[0m\n\u001b[1;32m      5\u001b[0m \u001b[1;31m#from flask_bootstrap import Bootstrap\u001b[0m\u001b[1;33m\u001b[0m\u001b[1;33m\u001b[0m\u001b[0m\n",
      "\u001b[0;32mD:\\anaconda3\\lib\\site-packages\\flask\\exthook.py\u001b[0m in \u001b[0;36mload_module\u001b[0;34m(self, fullname)\u001b[0m\n\u001b[1;32m    108\u001b[0m \u001b[1;33m\u001b[0m\u001b[0m\n\u001b[1;32m    109\u001b[0m             \u001b[1;32mreturn\u001b[0m \u001b[0mmodule\u001b[0m\u001b[1;33m\u001b[0m\u001b[0m\n\u001b[0;32m--> 110\u001b[0;31m         \u001b[1;32mraise\u001b[0m \u001b[0mImportError\u001b[0m\u001b[1;33m(\u001b[0m\u001b[1;34m'No module named %s'\u001b[0m \u001b[1;33m%\u001b[0m \u001b[0mfullname\u001b[0m\u001b[1;33m)\u001b[0m\u001b[1;33m\u001b[0m\u001b[0m\n\u001b[0m\u001b[1;32m    111\u001b[0m \u001b[1;33m\u001b[0m\u001b[0m\n\u001b[1;32m    112\u001b[0m     \u001b[1;32mdef\u001b[0m \u001b[0mis_important_traceback\u001b[0m\u001b[1;33m(\u001b[0m\u001b[0mself\u001b[0m\u001b[1;33m,\u001b[0m \u001b[0mimportant_module\u001b[0m\u001b[1;33m,\u001b[0m \u001b[0mtb\u001b[0m\u001b[1;33m)\u001b[0m\u001b[1;33m:\u001b[0m\u001b[1;33m\u001b[0m\u001b[0m\n",
      "\u001b[0;31mImportError\u001b[0m: No module named flask.ext.wtf"
     ]
    }
   ],
   "source": [
    "from flask import Flask,render_template  \n",
    "from flask.ext.wtf import Form  \n",
    "#from flask_wtf import Form  \n",
    "from flask.ext.bootstrap import Bootstrap  \n",
    "#from flask_bootstrap import Bootstrap  \n",
    "from wtforms import StringField,SubmitField  \n",
    "from wtforms.validators import Required  \n",
    "  \n",
    "class NameForm(Form):  \n",
    "    name = StringField('您的名字:',validators=[Required()])   #注意这里的中文  \n",
    "    submit = SubmitField('提交')  \n",
    "  \n",
    "app = Flask(__name__)  \n",
    "app.config['SECRET_KEY'] = 'the key'  \n",
    "bootstrap = Bootstrap(app)  \n",
    " \n",
    "@app.route('/',methods=['GET','POST'])  \n",
    "def index():  \n",
    "    name = None  \n",
    "    nameForm = NameForm()  \n",
    "  \n",
    "    if nameForm.validate_on_submit():  \n",
    "        name = nameForm.name.data  \n",
    "        nameForm.name.data = ''  \n",
    "  \n",
    "    return render_template('index.html',form=nameForm,name=name)  \n",
    "  \n",
    "if __name__ == '__main__':  \n",
    "    app.run(debug=True) "
   ]
  }
 ],
 "metadata": {
  "anaconda-cloud": {},
  "kernelspec": {
   "display_name": "Python [default]",
   "language": "python",
   "name": "python3"
  },
  "language_info": {
   "codemirror_mode": {
    "name": "ipython",
    "version": 3
   },
   "file_extension": ".py",
   "mimetype": "text/x-python",
   "name": "python",
   "nbconvert_exporter": "python",
   "pygments_lexer": "ipython3",
   "version": "3.5.2"
  }
 },
 "nbformat": 4,
 "nbformat_minor": 1
}
