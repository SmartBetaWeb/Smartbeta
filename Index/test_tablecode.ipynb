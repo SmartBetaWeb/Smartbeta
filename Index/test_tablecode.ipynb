{
 "cells": [
  {
   "cell_type": "code",
   "execution_count": 74,
   "metadata": {
    "collapsed": true
   },
   "outputs": [],
   "source": [
    "basic_model = '''<table class=\"table table-hover\">\n",
    "  <thead>\n",
    "  <tr>\n",
    "     {}\n",
    "  </tr>\n",
    "  </thead>\n",
    "  <tbody>\n",
    "     {}\n",
    "  </tbody>\n",
    "</table>\n",
    "'''"
   ]
  },
  {
   "cell_type": "code",
   "execution_count": 6,
   "metadata": {
    "collapsed": false
   },
   "outputs": [],
   "source": [
    "import tushare as ts\n",
    "re = ts.day_boxoffice()"
   ]
  },
  {
   "cell_type": "code",
   "execution_count": null,
   "metadata": {
    "collapsed": false
   },
   "outputs": [],
   "source": []
  },
  {
   "cell_type": "code",
   "execution_count": 12,
   "metadata": {
    "collapsed": false
   },
   "outputs": [],
   "source": [
    "import pandas as pd"
   ]
  },
  {
   "cell_type": "code",
   "execution_count": 13,
   "metadata": {
    "collapsed": true
   },
   "outputs": [],
   "source": [
    "a1= pd.DataFrame(columns = ['TGY', 'SB'], data = [['yeas', 1], ['no', 2]])"
   ]
  },
  {
   "cell_type": "code",
   "execution_count": 24,
   "metadata": {
    "collapsed": false
   },
   "outputs": [],
   "source": [
    "colNames = re.columns.tolist()\n",
    "col_html = \"\"\n",
    "for col in colNames:\n",
    "    tmp_name = \"<th>{}</th>\".format(col)\n",
    "    col_html += tmp_name"
   ]
  },
  {
   "cell_type": "code",
   "execution_count": 47,
   "metadata": {
    "collapsed": false
   },
   "outputs": [
    {
     "name": "stdout",
     "output_type": "stream",
     "text": [
      "0 <tr> <td>28</td><td>11</td><td>1559</td><td>6986</td><td>1</td><td>1</td><td>神秘巨星</td><td>1618</td><td></td></tr>\n",
      "1 <tr> <td>33</td><td>7</td><td>1137</td><td>2815</td><td>2</td><td>1</td><td>谜巢</td><td>1180</td><td></td></tr>\n",
      "2 <tr> <td>32</td><td>8</td><td>1042</td><td>4</td><td>3</td><td>2</td><td>英雄本色2018</td><td>2062</td><td></td></tr>\n",
      "3 <tr> <td>32</td><td>11</td><td>957</td><td>-75</td><td>4</td><td>8</td><td>无问西东</td><td>29558</td><td></td></tr>\n",
      "4 <tr> <td>29</td><td>7</td><td>835</td><td>13817</td><td>5</td><td>1</td><td>奇迹男孩</td><td>880</td><td></td></tr>\n",
      "5 <tr> <td>34</td><td>5</td><td>395</td><td>39400</td><td>6</td><td>1</td><td>公牛历险记</td><td>441</td><td></td></tr>\n",
      "6 <tr> <td>37</td><td>5</td><td>306</td><td>-88</td><td>7</td><td>8</td><td>勇敢者游戏：决战丛林</td><td>37882</td><td></td></tr>\n",
      "7 <tr> <td>36</td><td>5</td><td>189</td><td>-89</td><td>8</td><td>22</td><td>前任3：再见前任</td><td>184660</td><td></td></tr>\n",
      "8 <tr> <td>52</td><td>9</td><td>87</td><td>-43</td><td>9</td><td>15</td><td>星球大战：最后的绝地武士</td><td>25935</td><td></td></tr>\n",
      "9 <tr> <td>31</td><td>3</td><td>48</td><td>4700</td><td>10</td><td>1</td><td>第一夫人</td><td>53</td><td></td></tr>\n"
     ]
    }
   ],
   "source": [
    "len_row = len(re)\n",
    "row_info_whole = \"\"\n",
    "for row_info in range(len_row):\n",
    "    tmp_rowinfo = re.iloc[row_info].tolist()\n",
    "    tmp_row_html = \"<tr> {}</tr>\"\n",
    "    tmp_row_html_core = \"\"\n",
    "    for tmp_rowinfo_col in tmp_rowinfo:\n",
    "        tmp_row_html_core += \"<td>{}</td>\".format(tmp_rowinfo_col)\n",
    "    tmp_row_html = tmp_row_html.format(tmp_row_html_core)\n",
    "    print(row_info, tmp_row_html)\n",
    "    row_info_whole = row_info_whole +tmp_row_html"
   ]
  },
  {
   "cell_type": "code",
   "execution_count": 90,
   "metadata": {
    "collapsed": false
   },
   "outputs": [
    {
     "name": "stdout",
     "output_type": "stream",
     "text": [
      "<table class=\"table table-hover\">\n",
      "\t\t\t\t\t  <thead>\n",
      "\t\t\t\t\t  <tr>\n",
      "\t\t\t\t\t     <th>AvgPrice</th><th>AvpPeoPle</th><th>BoxOffice</th><th>BoxOffice_Up</th><th>IRank</th><th>MovieDay</th><th>MovieName</th><th>SumBoxOffice</th><th>WomIndex</th>\n",
      "\t\t\t\t\t  </tr>\n",
      "\t\t\t\t\t  </thead>\n",
      "\t\t\t\t\t  <tbody>\n",
      "\t\t\t\t\t     <tr> <td>28</td><td>11</td><td>1559</td><td>6986</td><td>1</td><td>1</td><td>神秘巨星</td><td>1618</td><td></td></tr><tr> <td>33</td><td>7</td><td>1137</td><td>2815</td><td>2</td><td>1</td><td>谜巢</td><td>1180</td><td></td></tr><tr> <td>32</td><td>8</td><td>1042</td><td>4</td><td>3</td><td>2</td><td>英雄本色2018</td><td>2062</td><td></td></tr>\n",
      "\t\t\t\t\t  </tbody>\n",
      "\t\t\t\t\t</table>\n",
      "\t\t\t\t\t\n"
     ]
    }
   ],
   "source": [
    "print(pd_to_bootstraptabels(re.head(3)))\n"
   ]
  },
  {
   "cell_type": "code",
   "execution_count": 115,
   "metadata": {
    "collapsed": false
   },
   "outputs": [],
   "source": [
    "html_f = open('404.html', 'w',encoding= 'utf-8')"
   ]
  },
  {
   "cell_type": "code",
   "execution_count": 95,
   "metadata": {
    "collapsed": false
   },
   "outputs": [],
   "source": [
    "html_1 = pd_to_bootstraptabels(re.head(3))"
   ]
  },
  {
   "cell_type": "code",
   "execution_count": 117,
   "metadata": {
    "collapsed": false
   },
   "outputs": [],
   "source": [
    "html_f.close()"
   ]
  },
  {
   "cell_type": "code",
   "execution_count": 116,
   "metadata": {
    "collapsed": false
   },
   "outputs": [
    {
     "data": {
      "text/plain": [
       "3"
      ]
     },
     "execution_count": 116,
     "metadata": {},
     "output_type": "execute_result"
    }
   ],
   "source": [
    "html_f.write(u'sd')\n",
    "html_f.write('田光远'.encode('utf-8').decode('utf-8'))"
   ]
  },
  {
   "cell_type": "code",
   "execution_count": 108,
   "metadata": {
    "collapsed": false
   },
   "outputs": [
    {
     "name": "stdout",
     "output_type": "stream",
     "text": [
      "田光远\n"
     ]
    }
   ],
   "source": [
    "print('田光远'.encode('utf-8').decode('utf-8'))"
   ]
  },
  {
   "cell_type": "code",
   "execution_count": 87,
   "metadata": {
    "collapsed": false
   },
   "outputs": [],
   "source": [
    "def pd_to_bootstraptabels(pdinput):\n",
    "\traw_html =  '''<table class=\"table table-hover\">\n",
    "\t\t\t\t\t  <thead>\n",
    "\t\t\t\t\t  <tr>\n",
    "\t\t\t\t\t     {}\n",
    "\t\t\t\t\t  </tr>\n",
    "\t\t\t\t\t  </thead>\n",
    "\t\t\t\t\t  <tbody>\n",
    "\t\t\t\t\t     {}\n",
    "\t\t\t\t\t  </tbody>\n",
    "\t\t\t\t\t</table>\n",
    "\t\t\t\t\t'''\n",
    "\tcolNames = pdinput.columns.tolist()\n",
    "\thead_html = \"\"\n",
    "\tfor col in colNames:\n",
    "\t\ttmp_head = \"<th>{}</th>\".format(col)\n",
    "\t\thead_html += tmp_head\n",
    "\tlen_pd = len(pdinput)\n",
    "\tbody_html = \"\"\n",
    "\tfor row_num in range(len_pd):\n",
    "\t\ttmp_rowinfo = re.iloc[row_num].tolist()\n",
    "\t\ttmp_row_html = \"<tr> {}</tr>\"\n",
    "\t\ttmp_row_html_core = \"\"\n",
    "\t\tfor tmp_rowinfo_col in tmp_rowinfo:\n",
    "\t\t\ttmp_row_html_core += \"<td>{}</td>\".format(tmp_rowinfo_col)\n",
    "\t\ttmp_row_html = tmp_row_html.format(tmp_row_html_core)\n",
    "\t\tbody_html +=tmp_row_html\n",
    "\traw_html = raw_html.format(head_html, body_html)\n",
    "\treturn raw_html"
   ]
  },
  {
   "cell_type": "code",
   "execution_count": 91,
   "metadata": {
    "collapsed": true
   },
   "outputs": [],
   "source": [
    "a1 = 'sda'"
   ]
  },
  {
   "cell_type": "code",
   "execution_count": 93,
   "metadata": {
    "collapsed": false
   },
   "outputs": [
    {
     "ename": "NameError",
     "evalue": "name 'unicode' is not defined",
     "output_type": "error",
     "traceback": [
      "\u001b[0;31m---------------------------------------------------------------------------\u001b[0m",
      "\u001b[0;31mNameError\u001b[0m                                 Traceback (most recent call last)",
      "\u001b[0;32m<ipython-input-93-94c195ac5263>\u001b[0m in \u001b[0;36m<module>\u001b[0;34m()\u001b[0m\n\u001b[0;32m----> 1\u001b[0;31m \u001b[0municode\u001b[0m\u001b[1;33m(\u001b[0m\u001b[0ma1\u001b[0m\u001b[1;33m)\u001b[0m\u001b[1;33m\u001b[0m\u001b[0m\n\u001b[0m",
      "\u001b[0;31mNameError\u001b[0m: name 'unicode' is not defined"
     ]
    }
   ],
   "source": [
    "a"
   ]
  },
  {
   "cell_type": "code",
   "execution_count": 84,
   "metadata": {
    "collapsed": false
   },
   "outputs": [
    {
     "ename": "IndentationError",
     "evalue": "unindent does not match any outer indentation level (<ipython-input-84-b25164d107ba>, line 4)",
     "output_type": "error",
     "traceback": [
      "\u001b[0;36m  File \u001b[0;32m\"<ipython-input-84-b25164d107ba>\"\u001b[0;36m, line \u001b[0;32m4\u001b[0m\n\u001b[0;31m    return origin_html\u001b[0m\n\u001b[0m                      ^\u001b[0m\n\u001b[0;31mIndentationError\u001b[0m\u001b[0;31m:\u001b[0m unindent does not match any outer indentation level\n"
     ]
    }
   ],
   "source": [
    "def reset_tables():\n",
    "\torigin_html = ts.day_boxoffice()\n",
    "\torigin_html = pd_to_bootstraptabels(origin_html)\n",
    "    return origin_html\n",
    "def pd_to_bootstraptabels(pdinput):\n",
    "\traw_html =  '''<table class=\"table table-hover\">\n",
    "\t\t\t\t\t  <thead>\n",
    "\t\t\t\t\t  <tr>\n",
    "\t\t\t\t\t     {}\n",
    "\t\t\t\t\t  </tr>\n",
    "\t\t\t\t\t  </thead>\n",
    "\t\t\t\t\t  <tbody>\n",
    "\t\t\t\t\t     {}\n",
    "\t\t\t\t\t  </tbody>\n",
    "\t\t\t\t\t</table>\n",
    "\t\t\t\t\t'''\n",
    "    print(pdinput)\n",
    "\tcolNames = pdinput.columns.tolist()\n",
    "\thead_html = \"\"\n",
    "\tfor col in colNames:\n",
    "\t\ttmp_head = \"<th>{}</th>\".format(col)\n",
    "\t\thead_html += tmp_head\n",
    "\tlen_pd = len(pdinput)\n",
    "\tbody_html = \"\"\n",
    "\tfor row_num in range(len_pd):\n",
    "\t\ttmp_rowinfo = pdinput.iloc[row_num].tolist()\n",
    "\t\ttmp_row_html = \"<tr> {}</tr>\"\n",
    "\t\ttmp_row_html_core = \"\"\n",
    "\t\tfor tmp_rowinfo_col in tmp_rowinfo:\n",
    "\t\t\ttmp_row_html_core += \"<td>{}</td>\".format(tmp_rowinfo_col)\n",
    "\t\ttmp_row_html = tmp_row_html.format(tmp_row_html_core)\n",
    "\t\tbody_html +=tmp_row_html\n",
    "\traw_html = raw_html.format(head_html, body_html)\n",
    "\treturn raw_html\n"
   ]
  }
 ],
 "metadata": {
  "anaconda-cloud": {},
  "kernelspec": {
   "display_name": "Python [default]",
   "language": "python",
   "name": "python3"
  },
  "language_info": {
   "codemirror_mode": {
    "name": "ipython",
    "version": 3
   },
   "file_extension": ".py",
   "mimetype": "text/x-python",
   "name": "python",
   "nbconvert_exporter": "python",
   "pygments_lexer": "ipython3",
   "version": "3.5.2"
  }
 },
 "nbformat": 4,
 "nbformat_minor": 1
}
